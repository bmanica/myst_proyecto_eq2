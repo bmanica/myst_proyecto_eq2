{
 "cells": [
  {
   "cell_type": "markdown",
   "metadata": {},
   "source": [
    "<center> <img src=\"https://upload.wikimedia.org/wikipedia/commons/c/c8/Iteso_logo.jpg\" align=\"center\" width=\"200\" height=\"200\"/> </center>"
   ]
  },
  {
   "cell_type": "markdown",
   "metadata": {},
   "source": [
    "<center><font color=#555555><font size=6> FUNDAMENTAL ANALYSIS </font> <br> <br>\n",
    "    \n",
    "<center><font color=#555555><font size=5> Market Microstructure and Trading Systems </font> <br> <br> \n",
    "\n",
    "<center><font color=#555555><font size=4> Espinosa Garcia Lyha, lyha.espinosa@iteso.mx<br> \n",
    "                                          Manica Pineda Bryan Azahel, if722176@iteso.mx <br>\n",
    "                                          Ruiz Magaña Juan Pablo, if721093@iteso.mx <br> \n",
    "                                          Vazquez Vargas Ana Cristina, if71215@iteso.mx \n",
    "    </font> <br> <br>\n",
    "   \n",
    "<center> <font color= #555555> <font size = 4> July.2022 </a> | <font color= #555555> <font size = 4> Repository: <a href='https://github.com/bmanica/myst_proyecto_eq2'>Link</a></font>"
   ]
  },
  {
   "cell_type": "markdown",
   "metadata": {},
   "source": [
    "<hr style=\"border:0.02in solid gray\"> </hr>"
   ]
  },
  {
   "cell_type": "markdown",
   "metadata": {},
   "source": [
    "<center> <font color= #555555> <font size = 6> Trading System from a fundamental perspective </font> <br> <br> <font color= #555555> <font size = 5> Unemployment rate impact on USDMXN historical series </font>"
   ]
  },
  {
   "cell_type": "markdown",
   "metadata": {},
   "source": [
    "<hr style=\"border:0.02in solid gray\"> </hr>"
   ]
  },
  {
   "cell_type": "markdown",
   "metadata": {},
   "source": [
    "<br>"
   ]
  },
  {
   "cell_type": "markdown",
   "metadata": {},
   "source": [
    "<font color= #555555> <font size = 4> Abstract </font>"
   ]
  },
  {
   "cell_type": "markdown",
   "metadata": {},
   "source": [
    "<font color= #6B6B6B> <font size = 3>  Include here a description of the whole work, use no more than 400 words, you can use **Bold** and *Italic* highlights, also you can inclue [links](www.iteso.mx). Usually is a good strategy to generate this text at the very end of the process, since you have to include all aspects of the work, from a brief introduction, to problem definitions and methods used, to finally the results found. </font>"
   ]
  },
  {
   "cell_type": "markdown",
   "metadata": {},
   "source": [
    "<br>"
   ]
  },
  {
   "cell_type": "markdown",
   "metadata": {},
   "source": [
    "# <font color= #6B6B6B> <font size = 6> 1. Introduction </font>"
   ]
  },
  {
   "cell_type": "markdown",
   "metadata": {},
   "source": [
    "<hr style=\"border:0.02in solid gray\"> </hr>"
   ]
  },
  {
   "cell_type": "markdown",
   "metadata": {},
   "source": [
    "This is an introduction, normally, it is done at the very end, when all the other content in the notebook is completed but just before the abstract (which is short version of the introduction) ... "
   ]
  },
  {
   "cell_type": "markdown",
   "metadata": {},
   "source": [
    "<br>"
   ]
  },
  {
   "cell_type": "markdown",
   "metadata": {},
   "source": [
    "# <font color= #6B6B6B> 2. Install/Load Packages and Depedencies </font>"
   ]
  },
  {
   "cell_type": "markdown",
   "metadata": {},
   "source": [
    "<hr style=\"border:0.02in solid gray\"> </hr>"
   ]
  },
  {
   "cell_type": "markdown",
   "metadata": {},
   "source": [
    "## <font color= #6B6B6B> 2.1 Python Packages </font> <font color= #555555>"
   ]
  },
  {
   "cell_type": "markdown",
   "metadata": {},
   "source": [
    "In order to run this notebook, it is necessary to have installed and/or have the _requirements.txt_ file with the following: "
   ]
  },
  {
   "cell_type": "markdown",
   "metadata": {},
   "source": [
    "- pandas>=1.1.1 \n",
    "- numpy>=1.19.1\n",
    "- datetime >=1.0.0\n",
    "- jupyter>=1.0.0\n"
   ]
  },
  {
   "cell_type": "markdown",
   "metadata": {},
   "source": [
    "## <font color= #6B6B6B> 2.2 Files Dependencies </font> <font color= #555555>"
   ]
  },
  {
   "cell_type": "markdown",
   "metadata": {},
   "source": [
    "The following are the file dependencies that are needed to run this notebook:"
   ]
  },
  {
   "cell_type": "markdown",
   "metadata": {},
   "source": [
    "- MP_M1_2018.csv : USDMXN Future contracts price series for 2018.\n",
    "- MP_M1_2019.csv : USDMXN Future contracts price series for 2019.\n",
    "- MP_M1_2020.csv : USDMXN Future contracts price series for 2020.\n",
    "- Unemployment_Rate.xlsx : Unemployment rate series from 2018 to 2020."
   ]
  },
  {
   "cell_type": "markdown",
   "metadata": {},
   "source": [
    "## <font color= #6E6E6E> 2.3 Install Packages</font>"
   ]
  },
  {
   "cell_type": "code",
   "execution_count": 1,
   "metadata": {},
   "outputs": [],
   "source": [
    "%%capture\n",
    "# Install all the pip packages in the requirements.txt\n",
    "import sys\n",
    "!{sys.executable} -m pip install -r requirements.txt"
   ]
  },
  {
   "cell_type": "code",
   "execution_count": 12,
   "metadata": {},
   "outputs": [],
   "source": [
    "import pandas as pd\n",
    "import numpy as np\n",
    "import datetime\n",
    "import warnings\n",
    "\n",
    "import functions as fn\n",
    "\n",
    "usdmxn_18 = pd.read_csv('files\\MP_M1_2018.csv')\n",
    "usdmxn_19 = pd.read_csv('files\\MP_M1_2019.csv')\n",
    "usdmxn_20 = pd.read_csv('files\\MP_M1_2020.csv')\n",
    "#unemployment = pd.read_excel('files\\Unemployment_Rate.xlsx')"
   ]
  },
  {
   "cell_type": "code",
   "execution_count": null,
   "metadata": {},
   "outputs": [],
   "source": []
  },
  {
   "cell_type": "markdown",
   "metadata": {},
   "source": [
    "# <font color= #6B6B6B> 3. Data Description </font>"
   ]
  },
  {
   "cell_type": "markdown",
   "metadata": {},
   "source": [
    "<hr style=\"border:0.02in solid gray\"> </hr>"
   ]
  },
  {
   "cell_type": "markdown",
   "metadata": {},
   "source": [
    "## <font color= #6B6B6B> 3.1 Currency data </font>"
   ]
  },
  {
   "cell_type": "markdown",
   "metadata": {},
   "source": []
  },
  {
   "cell_type": "markdown",
   "metadata": {},
   "source": [
    "## <font color= #6B6B6B> 3.2 Indicator data </font>"
   ]
  },
  {
   "cell_type": "markdown",
   "metadata": {},
   "source": []
  },
  {
   "cell_type": "markdown",
   "metadata": {},
   "source": [
    "<br>"
   ]
  },
  {
   "cell_type": "markdown",
   "metadata": {},
   "source": [
    "# <font color= #6B6B6B> 4. Historical Analysis </font>"
   ]
  },
  {
   "cell_type": "markdown",
   "metadata": {},
   "source": [
    "<hr style=\"border:0.02in solid gray\"> </hr>"
   ]
  },
  {
   "cell_type": "markdown",
   "metadata": {},
   "source": [
    "## <font color= #6B6B6B> 4.1 Financial Aspects </font>"
   ]
  },
  {
   "cell_type": "markdown",
   "metadata": {},
   "source": [
    "<hr style=\"border:0.02in solid gray\"> </hr>"
   ]
  },
  {
   "cell_type": "markdown",
   "metadata": {},
   "source": [
    "\n",
    "- The USDMXN behavior is analyze during the report date of the unemployment rate of the american economy.\n"
   ]
  },
  {
   "cell_type": "markdown",
   "metadata": {},
   "source": [
    "Explicación en texto de indicador  \n",
    "- Hacer 5 validaciones visuales de cuando sucede el indicador\n",
    "- Tomar screenshot de cada una.\n",
    "- Documentar empíricamente la reacción del precio\n",
    "- Diseñar empíricamente los parámetros de una operación que se colocara\n",
    "- Sentido.\n",
    "- Volumen.\n",
    "- Takeprofit.\n",
    "- Stoploss.\n",
    "- Diseñar empíricamente una estrategia de administración del capital.\n",
    "- Cuánto perder cuando se pierda.\n",
    "- Cuánto ganar cuando se gana.\n",
    "- Incremento progresivo de tamaño de posición o no."
   ]
  },
  {
   "cell_type": "markdown",
   "metadata": {},
   "source": [
    "## <font color= #6B6B6B> 4.2 Statistical Aspects </font>"
   ]
  },
  {
   "cell_type": "markdown",
   "metadata": {},
   "source": [
    "<hr style=\"border:0.02in solid gray\"> </hr>"
   ]
  },
  {
   "cell_type": "markdown",
   "metadata": {},
   "source": [
    "### <font color= #6B6B6B> 4.2.1 Time Series </font>"
   ]
  },
  {
   "cell_type": "markdown",
   "metadata": {},
   "source": [
    "### <font color= #6B6B6B> 4.2.2 Autocorrelation and Autocorrelation Partial Component</font>"
   ]
  },
  {
   "cell_type": "markdown",
   "metadata": {},
   "source": [
    "To test if our time series have a high degree of autocorrelation with the lagged version of the time series. Autocorrelation it's important to know if a time series past values have a relation with the future values.\n",
    "The test is *Durbin Watson*.\n",
    "\n",
    "Statistic: \n",
    "\n",
    "$$\\frac{\\sum_{t=2}^T((e_t - e_{t-1})^2)}{\\sum_{t=1}^Te_t^2}$$\n",
    "\n",
    "Where:\n",
    "\n",
    "$e$: Represent the residuals of the time series."
   ]
  },
  {
   "cell_type": "markdown",
   "metadata": {},
   "source": [
    "### <font color= #6B6B6B> 4.2.3 Heteroscedasticity Test</font>"
   ]
  },
  {
   "cell_type": "markdown",
   "metadata": {},
   "source": [
    "### Levene Test\n",
    "\n",
    "\n",
    "Statistical test used to check if variances from two samples are equal (Homocedasticity).\n",
    "\n",
    "Statistic:\n",
    "\n",
    "$$ W = \\frac{(N-k)\\sum_{i=1}^{k}N_{i}(Z_i - Z..)^2}{(k-1)\\sum_{i=1}^{N_i}(Z_{ij}-Z_i)^2} $$\n",
    "\n",
    "Where:\n",
    "\n",
    "- $W$: The test statistic.\n",
    "- $k$: Number of diferent groups \n",
    "- $N$: Number of total cases in each group.\n",
    "- $N_i$: Number of cases in group i.\n",
    "- $Y_{ij}$: Value of the observed variable for i,j cases.\n",
    "- $Z_{ij}$: $\\bar{Y_i}$ the mean of group i\n",
    "\n",
    "\n",
    "Null Hypothesis: Variances are equal (Homocedasticity).  \n",
    "\n",
    "### Bartlett Test\n",
    "\n",
    "\n",
    "Statistical test used to check if variances from two samples are equal (Homocedasticity).\n",
    "\n",
    "Statistic:\n",
    "\n",
    "$$ X^{2} = \\frac{ln(S^{2}{p})-\\sum{i=1}^{k}(n_i-1)ln(S^{2}{i})}{1+\\frac{1}{3(k-1)}\\Big(\\sum{i=1}^{k}\\frac{1}{n_i-1}-\\frac{1}{N-k}\\Big)} $$\n",
    "\n",
    "Where:\n",
    "\n",
    "- $X^{2}$: The test statistic.\n",
    "- $k$: Number of diferent groups \n",
    "- $N$: Number of total cases in each group.\n",
    "- $N_i$: Number of cases in group i.\n",
    "- $S^{2}_{i}$: Sample's Variances.\n",
    "\n",
    "\n",
    "Null Hypothesis: Variances are equal (Homocedasticity)."
   ]
  },
  {
   "cell_type": "markdown",
   "metadata": {},
   "source": [
    "### <font color= #6B6B6B> 4.2.4 Normalized Test </font>"
   ]
  },
  {
   "cell_type": "markdown",
   "metadata": {},
   "source": [
    "List of the following tests:\n",
    "\n",
    "- Shapiro Wilk\n",
    "- Jarque-Bera\n",
    "- D'Angostino\n",
    "- Anderson Darling test  \n",
    "\n",
    "### Shapiro Wilk\n",
    "\n",
    "It is a statistical test used to verified if a set of data follows a normal distribution.\n",
    "Published by Samuel Shapiro and Martin Bradbury in the  1960s.\n",
    "\n",
    "Statistic:\n",
    "\n",
    "\n",
    "$$ W = \\frac{\\Big(\\sum_{i=1}^{n}\\alpha_{i}x_{(i)}\\Big)}{\\sum_{i=1}^{n} (x_{i} - \\bar{x})^2 } $$\n",
    "\n",
    "Where:\n",
    "\n",
    "- $W$: Is the test statistic Shapiro-Wilk.\n",
    "- $\\alpha$: The Shapiro-Wilk's Coeficient.\n",
    "- $n$: Number of data.\n",
    "- $X_{i}$: The variable to be test at observation i.\n",
    "- $\\bar{X}$: The average of the variable.\n",
    "\n",
    "Null Hypothesis $H_0$: The sample follows a normal distribution.  \n",
    "\n",
    "###  D'Angostino\n",
    "\n",
    "Statistical test for normality. Based on *kurtosis* and *skewness**.\n",
    "\n",
    "\n",
    "The sample skewness and kurtosis are defined as:\n",
    "\n",
    "$$ g_1 = \\frac{\\frac{1}{n}\\sum_{i=1}^{n}(x_i-\\bar{x})^3}{\\Big(\\frac{1}{n}\\sum_{i=1}^{n}(x_i-\\bar{x})^{2}\\Big)\\frac{3}{2}} $$\n",
    "\n",
    "$$ g_2 = \\frac{\\frac{1}{n}\\sum_{i=1}^{n}(x_i-\\bar{x})^4}{\\Big(\\frac{1}{n}\\sum_{i=1}^{n}(x_i-\\bar{x})^{2}\\Big)^{2}} $$\n",
    "\n",
    "After a transformation to $g_1$ and $g_2$ it's applied the statistic results:\n",
    "\n",
    "$$ K^2 = Z_{1}(g_{1})^2 +  Z_{2}(g_{2})^2 $$\n",
    "\n",
    "Where:\n",
    "\n",
    "\n",
    "- $g_1$: The skewness sample.\n",
    "- $g_2$: The kurtosis sample.\n",
    "- $n$: Number of data.\n",
    "- $X_{i}$: The variable to be test at observation i.\n",
    "- $\\bar{X}$: The average of the variable.\n",
    "- $Z_{1}(g_{1})$: Transformation for ${g_1}$.\n",
    "- $Z_{2}(g_{2})$: Transformation for ${g_2}$.\n",
    "\n",
    "Null Hypothesis $H_0$: The sample follows a normal distribution.\n",
    "\n",
    "### Jarque Bera\n",
    "\n",
    "Goodness of fit test, which use the kurtosis and the skewness from the sample, to test if the data follows a normal distribution.\n",
    "\n",
    "Skewness & Kurtosis:\n",
    "\n",
    "\n",
    "$$ S = \\frac{\\frac{1}{n}\\sum_{i=1}^{n}(x_i-\\bar{x})^3}{\\Big(\\frac{1}{n}\\sum_{i=1}^{n}(x_i-\\bar{x})^{2}\\Big)\\frac{3}{2}} $$\n",
    "\n",
    "$$ K = \\frac{\\frac{1}{n}\\sum_{i=1}^{n}(x_i-\\bar{x})^4}{\\Big(\\frac{1}{n}\\sum_{i=1}^{n}(x_i-\\bar{x})^{2}\\Big)^{2}} $$\n",
    "\n",
    "Jarque Bera Statistic:\n",
    "\n",
    "$${JB = \\frac{n}{6}\\Big(S^{2} + \\frac{1}{4}(K-3)^{2}\\Big)}$$\n",
    "\n",
    "\n",
    "\n",
    "Where:\n",
    "\n",
    "- ${n}$: Is the number of observations.\n",
    "- ${S}$: The sample Skewness.\n",
    "- ${K}$: The sample Kurtosis.\n",
    "- $X_{i}$: The variable to be test at observation i.\n",
    "- $\\bar{X}$: The average of the variable.\n",
    "\n",
    "Null Hypothesis $H_0$: The sample follows a normal distribution."
   ]
  },
  {
   "cell_type": "markdown",
   "metadata": {},
   "source": [
    "### <font color= #6B6B6B> 4.2.5 Seasonality </font>"
   ]
  },
  {
   "cell_type": "markdown",
   "metadata": {},
   "source": [
    "To check if our time series indicator have a seasonality component we would use the *Kruskal Wallis Test*, which is a non parametric test whit the porpouse of proving if n samples orignate from the same distribution.\n",
    "\n",
    "Statistic:\n",
    "$${Q=\\frac{SS_{t}}{SS_{e}}}$$\n",
    "\n",
    "Where:\n",
    "- ${SS_{t} = (N-1)\\sum_{i=1}^{g}n_{i}(\\bar{r}_{j}-\\bar{r})^{2}}$\n",
    "- ${SS_{e} = (N-1)\\sum_{i=1}^{g}n_{i}(\\bar{r}_{ij}-\\bar{r})^{2}}$\n",
    "- $n_j$ number of observations in group j\n",
    "- $\\bar{r}_j$ the mean of the abosulute ranks of the data i in group j.\n",
    "- $\\bar{r} = \\frac{1}{2}(N+1)$: The average rank.\n",
    "\n",
    "Null Hypothesis: all samples (in time series context months, quarters...) have the same mean.\n",
    "If rejectedthere is no seasonality."
   ]
  },
  {
   "cell_type": "markdown",
   "metadata": {},
   "source": [
    "### <font color= #6B6B6B> 4.2.6 Stationarity </font>"
   ]
  },
  {
   "cell_type": "markdown",
   "metadata": {},
   "source": [
    "It is define as a stationary process when data have the following property: mean, variance and autocorrelation structure do not change over time.\n",
    "\n",
    "*Augmented Dickey-Fuller test* Is the statistical test used to check if our time series indicator have this property.\n",
    "It is a unit root test, the intuiton behind the test is that it determine how strong is the trend component in a time series.\n",
    "\n",
    "Statistic:\n",
    "\n",
    "$${DF_{\\tau}=\\frac{\\hat{\\gamma}}{SE(\\hat{\\gamma})}}$$\n",
    "\n",
    "Where:\n",
    "- $\\gamma$: Unit root.\n",
    "- SE: Standard error.\n",
    "\n",
    "The null hypothesis of the test is that the time series can be represented by a unit root, that it is not stationary. The alternate hypothesis (rejecting the null hypothesis) is that the time series is stationary."
   ]
  },
  {
   "cell_type": "markdown",
   "metadata": {},
   "source": [
    "### <font color= #6B6B6B> 4.2.7 Atypical Detection </font>"
   ]
  },
  {
   "cell_type": "markdown",
   "metadata": {},
   "source": [
    "To check if our time series have outliers the IQR (Interquartile Rnage) criterion is used. The IQR is the difference between the third and the first quartil. To use this criterion data is divided in quarters, the IQR represent the middle half of the data that lies between the upper and lower quartiles.\n",
    "\n",
    "$$ IQR = Q_3 - Q_1 $$\n",
    "\n",
    "An aupper limit is define, observations above this limit are consider outliers.  \n",
    "Upper limit = $Q_3 +1.5*iqr$\n",
    "\n",
    "A lower limit is define, observations below this limit are consider outliers.  \n",
    "Lower limit = $Q_1 -1.5*iqr$"
   ]
  },
  {
   "cell_type": "markdown",
   "metadata": {},
   "source": [
    "## <font color= #6B6B6B> 4.3 Computational Aspects </font>"
   ]
  },
  {
   "cell_type": "markdown",
   "metadata": {},
   "source": [
    "<hr style=\"border:0.02in solid gray\"> </hr>"
   ]
  },
  {
   "cell_type": "code",
   "execution_count": 3,
   "metadata": {},
   "outputs": [],
   "source": [
    "data = fn.data_manipulation(usdmxn_18,usdmxn_19,usdmxn_20,unemployment)\n",
    "usdmxn = data[0]\n",
    "unemployment = data[1]"
   ]
  },
  {
   "cell_type": "markdown",
   "metadata": {},
   "source": [
    "### <font color= #6B6B6B> 4.3.1 Scenario Classification </font>"
   ]
  },
  {
   "cell_type": "markdown",
   "metadata": {},
   "source": [
    "Each event is classified following the following rules that represents occurrence scenarios: \n",
    "\n",
    "\n",
    "| Scenario | Rule                             |\n",
    "|----------|----------------------------------|\n",
    "|     **A**    | Actual   $\\geq$  Consensus  $\\geq$  Previous |\n",
    "|     **B**    | Actual $\\geq$  Consensus $<$ Previous   |\n",
    "|     **C**    | Actual $<$ Consensus $\\leq$ Previous   |\n",
    "|     **D**    | Actual $<$ Consensus $<$ Previous    |\n",
    "\n",
    "- **A** – Actual is greater than or equal to expectation, which is greater than previous. Expectation is that the index increases and increases\n",
    "- **B** – Actual is greater than or equal to the expectation, however the expectation is less than the previous one. Expectation expects it to go down, but it goes up\n",
    "- **C** – Actual is lower than the expectation, however, the expectation expected that it would increase more than the previous one. The expectation was upward; however, the reality is downward.\n",
    "- **D** – Actual is less than the expectation which in turn is less than the previous. The expectation is that it decreases and the reality decreases more.\n"
   ]
  },
  {
   "cell_type": "markdown",
   "metadata": {},
   "source": [
    "\n",
    "To make this classification, a function is used, which consists of a for cycle that iterates the data frame that contains each scenario, that represents each monthly report of the indicator. Within this cycle, the percentage that was reported as current, consensus and prior is compared by multiple conditions, following the aforementioned rules and assigning them the corresponding scenario.\n"
   ]
  },
  {
   "cell_type": "code",
   "execution_count": 4,
   "metadata": {},
   "outputs": [
    {
     "data": {
      "text/html": [
       "<div>\n",
       "<style scoped>\n",
       "    .dataframe tbody tr th:only-of-type {\n",
       "        vertical-align: middle;\n",
       "    }\n",
       "\n",
       "    .dataframe tbody tr th {\n",
       "        vertical-align: top;\n",
       "    }\n",
       "\n",
       "    .dataframe thead th {\n",
       "        text-align: right;\n",
       "    }\n",
       "</style>\n",
       "<table border=\"1\" class=\"dataframe\">\n",
       "  <thead>\n",
       "    <tr style=\"text-align: right;\">\n",
       "      <th></th>\n",
       "      <th>Country/Region</th>\n",
       "      <th>Event</th>\n",
       "      <th>Importance</th>\n",
       "      <th>Period</th>\n",
       "      <th>Actual</th>\n",
       "      <th>Consensus</th>\n",
       "      <th>Prior</th>\n",
       "      <th>Scenario</th>\n",
       "    </tr>\n",
       "    <tr>\n",
       "      <th>Datetime</th>\n",
       "      <th></th>\n",
       "      <th></th>\n",
       "      <th></th>\n",
       "      <th></th>\n",
       "      <th></th>\n",
       "      <th></th>\n",
       "      <th></th>\n",
       "      <th></th>\n",
       "    </tr>\n",
       "  </thead>\n",
       "  <tbody>\n",
       "    <tr>\n",
       "      <th>2018-01-05 07:30:00</th>\n",
       "      <td>United States</td>\n",
       "      <td>Unemployment Rate</td>\n",
       "      <td>High</td>\n",
       "      <td>DEC</td>\n",
       "      <td>4.1%</td>\n",
       "      <td>4.1%</td>\n",
       "      <td>4.1%</td>\n",
       "      <td>A</td>\n",
       "    </tr>\n",
       "    <tr>\n",
       "      <th>2018-02-02 07:30:00</th>\n",
       "      <td>United States</td>\n",
       "      <td>Unemployment Rate</td>\n",
       "      <td>High</td>\n",
       "      <td>JAN</td>\n",
       "      <td>4.1%</td>\n",
       "      <td>4.1%</td>\n",
       "      <td>4.1%</td>\n",
       "      <td>A</td>\n",
       "    </tr>\n",
       "    <tr>\n",
       "      <th>2018-03-09 07:30:00</th>\n",
       "      <td>United States</td>\n",
       "      <td>Unemployment Rate</td>\n",
       "      <td>High</td>\n",
       "      <td>FEB</td>\n",
       "      <td>4.1%</td>\n",
       "      <td>4.0%</td>\n",
       "      <td>4.1%</td>\n",
       "      <td>B</td>\n",
       "    </tr>\n",
       "    <tr>\n",
       "      <th>2018-04-06 07:30:00</th>\n",
       "      <td>United States</td>\n",
       "      <td>Unemployment Rate</td>\n",
       "      <td>High</td>\n",
       "      <td>MAR</td>\n",
       "      <td>4.1%</td>\n",
       "      <td>4.0%</td>\n",
       "      <td>4.1%</td>\n",
       "      <td>B</td>\n",
       "    </tr>\n",
       "    <tr>\n",
       "      <th>2018-05-04 07:30:00</th>\n",
       "      <td>United States</td>\n",
       "      <td>Unemployment Rate</td>\n",
       "      <td>High</td>\n",
       "      <td>APR</td>\n",
       "      <td>3.9%</td>\n",
       "      <td>4.0%</td>\n",
       "      <td>4.1%</td>\n",
       "      <td>D</td>\n",
       "    </tr>\n",
       "  </tbody>\n",
       "</table>\n",
       "</div>"
      ],
      "text/plain": [
       "                    Country/Region              Event  Importance  Period   \\\n",
       "Datetime                                                                     \n",
       "2018-01-05 07:30:00   United States  Unemployment Rate        High     DEC   \n",
       "2018-02-02 07:30:00   United States  Unemployment Rate        High     JAN   \n",
       "2018-03-09 07:30:00   United States  Unemployment Rate        High     FEB   \n",
       "2018-04-06 07:30:00   United States  Unemployment Rate        High     MAR   \n",
       "2018-05-04 07:30:00   United States  Unemployment Rate        High     APR   \n",
       "\n",
       "                    Actual  Consensus  Prior  Scenario  \n",
       "Datetime                                                \n",
       "2018-01-05 07:30:00    4.1%       4.1%   4.1%        A  \n",
       "2018-02-02 07:30:00    4.1%       4.1%   4.1%        A  \n",
       "2018-03-09 07:30:00    4.1%       4.0%   4.1%        B  \n",
       "2018-04-06 07:30:00    4.1%       4.0%   4.1%        B  \n",
       "2018-05-04 07:30:00    3.9%       4.0%   4.1%        D  "
      ]
     },
     "metadata": {},
     "output_type": "display_data"
    },
    {
     "data": {
      "text/html": [
       "<div>\n",
       "<style scoped>\n",
       "    .dataframe tbody tr th:only-of-type {\n",
       "        vertical-align: middle;\n",
       "    }\n",
       "\n",
       "    .dataframe tbody tr th {\n",
       "        vertical-align: top;\n",
       "    }\n",
       "\n",
       "    .dataframe thead th {\n",
       "        text-align: right;\n",
       "    }\n",
       "</style>\n",
       "<table border=\"1\" class=\"dataframe\">\n",
       "  <thead>\n",
       "    <tr style=\"text-align: right;\">\n",
       "      <th></th>\n",
       "      <th>Country/Region</th>\n",
       "      <th>Event</th>\n",
       "      <th>Importance</th>\n",
       "      <th>Period</th>\n",
       "      <th>Actual</th>\n",
       "      <th>Consensus</th>\n",
       "      <th>Prior</th>\n",
       "      <th>Scenario</th>\n",
       "    </tr>\n",
       "    <tr>\n",
       "      <th>Datetime</th>\n",
       "      <th></th>\n",
       "      <th></th>\n",
       "      <th></th>\n",
       "      <th></th>\n",
       "      <th></th>\n",
       "      <th></th>\n",
       "      <th></th>\n",
       "      <th></th>\n",
       "    </tr>\n",
       "  </thead>\n",
       "  <tbody>\n",
       "    <tr>\n",
       "      <th>2020-08-07 07:30:00</th>\n",
       "      <td>United States</td>\n",
       "      <td>Unemployment Rate</td>\n",
       "      <td>High</td>\n",
       "      <td>JUL</td>\n",
       "      <td>10.2%</td>\n",
       "      <td>10.5%</td>\n",
       "      <td>11.1%</td>\n",
       "      <td>D</td>\n",
       "    </tr>\n",
       "    <tr>\n",
       "      <th>2020-09-04 07:30:00</th>\n",
       "      <td>United States</td>\n",
       "      <td>Unemployment Rate</td>\n",
       "      <td>High</td>\n",
       "      <td>AUG</td>\n",
       "      <td>8.4%</td>\n",
       "      <td>9.8%</td>\n",
       "      <td>10.2%</td>\n",
       "      <td>C</td>\n",
       "    </tr>\n",
       "    <tr>\n",
       "      <th>2020-10-02 07:30:00</th>\n",
       "      <td>United States</td>\n",
       "      <td>Unemployment Rate</td>\n",
       "      <td>High</td>\n",
       "      <td>SEP</td>\n",
       "      <td>7.9%</td>\n",
       "      <td>8.2%</td>\n",
       "      <td>8.4%</td>\n",
       "      <td>D</td>\n",
       "    </tr>\n",
       "    <tr>\n",
       "      <th>2020-11-06 07:30:00</th>\n",
       "      <td>United States</td>\n",
       "      <td>Unemployment Rate</td>\n",
       "      <td>High</td>\n",
       "      <td>OCT</td>\n",
       "      <td>6.9%</td>\n",
       "      <td>7.7%</td>\n",
       "      <td>7.9%</td>\n",
       "      <td>D</td>\n",
       "    </tr>\n",
       "    <tr>\n",
       "      <th>2020-12-04 07:30:00</th>\n",
       "      <td>United States</td>\n",
       "      <td>Unemployment Rate</td>\n",
       "      <td>High</td>\n",
       "      <td>NOV</td>\n",
       "      <td>6.7%</td>\n",
       "      <td>6.8%</td>\n",
       "      <td>6.9%</td>\n",
       "      <td>D</td>\n",
       "    </tr>\n",
       "  </tbody>\n",
       "</table>\n",
       "</div>"
      ],
      "text/plain": [
       "                    Country/Region              Event  Importance  Period   \\\n",
       "Datetime                                                                     \n",
       "2020-08-07 07:30:00   United States  Unemployment Rate        High     JUL   \n",
       "2020-09-04 07:30:00   United States  Unemployment Rate        High     AUG   \n",
       "2020-10-02 07:30:00   United States  Unemployment Rate        High     SEP   \n",
       "2020-11-06 07:30:00   United States  Unemployment Rate        High     OCT   \n",
       "2020-12-04 07:30:00   United States  Unemployment Rate        High     NOV   \n",
       "\n",
       "                    Actual  Consensus   Prior  Scenario  \n",
       "Datetime                                                 \n",
       "2020-08-07 07:30:00   10.2%      10.5%   11.1%        D  \n",
       "2020-09-04 07:30:00    8.4%       9.8%   10.2%        C  \n",
       "2020-10-02 07:30:00    7.9%       8.2%    8.4%        D  \n",
       "2020-11-06 07:30:00    6.9%       7.7%    7.9%        D  \n",
       "2020-12-04 07:30:00    6.7%       6.8%    6.9%        D  "
      ]
     },
     "metadata": {},
     "output_type": "display_data"
    }
   ],
   "source": [
    "unemployment_df = fn.Scenario_Clasification(unemployment)\n",
    "display(unemployment_df.head())\n",
    "display(unemployment_df.tail())"
   ]
  },
  {
   "cell_type": "markdown",
   "metadata": {},
   "source": [
    "### <font color= #6B6B6B> 4.3.2 Events </font>"
   ]
  },
  {
   "cell_type": "markdown",
   "metadata": {},
   "source": [
    "Through a function, a data frame is created for each event, which consists of the prices with one-minute intervals of 30 minutes before each moment in which the indicator's statement was made and 30 minutes later. Resulting 36 data frames. \n",
    "\n",
    "The function creates the data frames through a cycle that connects two data frames, the one containing the events (each release) and a data frame of the currency usdmxn with prices per minute. The date of the release is searched for in the price data frame and the 30 minutes before and 30 minutes after are extracted using “datetime.timedelta”.\n"
   ]
  },
  {
   "cell_type": "code",
   "execution_count": 5,
   "metadata": {},
   "outputs": [
    {
     "data": {
      "text/html": [
       "<div>\n",
       "<style scoped>\n",
       "    .dataframe tbody tr th:only-of-type {\n",
       "        vertical-align: middle;\n",
       "    }\n",
       "\n",
       "    .dataframe tbody tr th {\n",
       "        vertical-align: top;\n",
       "    }\n",
       "\n",
       "    .dataframe thead th {\n",
       "        text-align: right;\n",
       "    }\n",
       "</style>\n",
       "<table border=\"1\" class=\"dataframe\">\n",
       "  <thead>\n",
       "    <tr style=\"text-align: right;\">\n",
       "      <th></th>\n",
       "      <th>index</th>\n",
       "      <th>timestamp</th>\n",
       "      <th>open</th>\n",
       "      <th>high</th>\n",
       "      <th>low</th>\n",
       "      <th>close</th>\n",
       "      <th>volume</th>\n",
       "      <th>date</th>\n",
       "    </tr>\n",
       "  </thead>\n",
       "  <tbody>\n",
       "    <tr>\n",
       "      <th>0</th>\n",
       "      <td>3297</td>\n",
       "      <td>2018-01-05 07:00:00</td>\n",
       "      <td>23.041475</td>\n",
       "      <td>23.046785</td>\n",
       "      <td>23.041475</td>\n",
       "      <td>23.046785</td>\n",
       "      <td>520680.0</td>\n",
       "      <td>2018-01-05</td>\n",
       "    </tr>\n",
       "    <tr>\n",
       "      <th>1</th>\n",
       "      <td>3298</td>\n",
       "      <td>2018-01-05 07:01:00</td>\n",
       "      <td>23.046785</td>\n",
       "      <td>23.046785</td>\n",
       "      <td>23.046785</td>\n",
       "      <td>23.046785</td>\n",
       "      <td>238645.0</td>\n",
       "      <td>2018-01-05</td>\n",
       "    </tr>\n",
       "    <tr>\n",
       "      <th>2</th>\n",
       "      <td>3299</td>\n",
       "      <td>2018-01-05 07:04:00</td>\n",
       "      <td>23.041475</td>\n",
       "      <td>23.041475</td>\n",
       "      <td>23.041475</td>\n",
       "      <td>23.041475</td>\n",
       "      <td>217000.0</td>\n",
       "      <td>2018-01-05</td>\n",
       "    </tr>\n",
       "    <tr>\n",
       "      <th>3</th>\n",
       "      <td>3300</td>\n",
       "      <td>2018-01-05 07:06:00</td>\n",
       "      <td>23.046785</td>\n",
       "      <td>23.046785</td>\n",
       "      <td>23.046785</td>\n",
       "      <td>23.046785</td>\n",
       "      <td>21695.0</td>\n",
       "      <td>2018-01-05</td>\n",
       "    </tr>\n",
       "    <tr>\n",
       "      <th>4</th>\n",
       "      <td>3301</td>\n",
       "      <td>2018-01-05 07:08:00</td>\n",
       "      <td>23.046785</td>\n",
       "      <td>23.046785</td>\n",
       "      <td>23.046785</td>\n",
       "      <td>23.046785</td>\n",
       "      <td>151865.0</td>\n",
       "      <td>2018-01-05</td>\n",
       "    </tr>\n",
       "    <tr>\n",
       "      <th>5</th>\n",
       "      <td>3302</td>\n",
       "      <td>2018-01-05 07:09:00</td>\n",
       "      <td>23.046785</td>\n",
       "      <td>23.046785</td>\n",
       "      <td>23.046785</td>\n",
       "      <td>23.046785</td>\n",
       "      <td>43390.0</td>\n",
       "      <td>2018-01-05</td>\n",
       "    </tr>\n",
       "    <tr>\n",
       "      <th>6</th>\n",
       "      <td>3303</td>\n",
       "      <td>2018-01-05 07:10:00</td>\n",
       "      <td>23.046785</td>\n",
       "      <td>23.046785</td>\n",
       "      <td>23.046785</td>\n",
       "      <td>23.046785</td>\n",
       "      <td>151865.0</td>\n",
       "      <td>2018-01-05</td>\n",
       "    </tr>\n",
       "    <tr>\n",
       "      <th>7</th>\n",
       "      <td>3304</td>\n",
       "      <td>2018-01-05 07:12:00</td>\n",
       "      <td>23.046785</td>\n",
       "      <td>23.046785</td>\n",
       "      <td>23.046785</td>\n",
       "      <td>23.046785</td>\n",
       "      <td>151865.0</td>\n",
       "      <td>2018-01-05</td>\n",
       "    </tr>\n",
       "    <tr>\n",
       "      <th>8</th>\n",
       "      <td>3305</td>\n",
       "      <td>2018-01-05 07:13:00</td>\n",
       "      <td>23.052098</td>\n",
       "      <td>23.052098</td>\n",
       "      <td>23.052098</td>\n",
       "      <td>23.052098</td>\n",
       "      <td>5183910.0</td>\n",
       "      <td>2018-01-05</td>\n",
       "    </tr>\n",
       "    <tr>\n",
       "      <th>9</th>\n",
       "      <td>3306</td>\n",
       "      <td>2018-01-05 07:14:00</td>\n",
       "      <td>23.057413</td>\n",
       "      <td>23.057413</td>\n",
       "      <td>23.057413</td>\n",
       "      <td>23.057413</td>\n",
       "      <td>1149305.0</td>\n",
       "      <td>2018-01-05</td>\n",
       "    </tr>\n",
       "    <tr>\n",
       "      <th>10</th>\n",
       "      <td>3307</td>\n",
       "      <td>2018-01-05 07:15:00</td>\n",
       "      <td>23.062731</td>\n",
       "      <td>23.068051</td>\n",
       "      <td>23.062731</td>\n",
       "      <td>23.068051</td>\n",
       "      <td>1495575.0</td>\n",
       "      <td>2018-01-05</td>\n",
       "    </tr>\n",
       "    <tr>\n",
       "      <th>11</th>\n",
       "      <td>3308</td>\n",
       "      <td>2018-01-05 07:16:00</td>\n",
       "      <td>23.068051</td>\n",
       "      <td>23.073373</td>\n",
       "      <td>23.068051</td>\n",
       "      <td>23.073373</td>\n",
       "      <td>736780.0</td>\n",
       "      <td>2018-01-05</td>\n",
       "    </tr>\n",
       "    <tr>\n",
       "      <th>12</th>\n",
       "      <td>3309</td>\n",
       "      <td>2018-01-05 07:17:00</td>\n",
       "      <td>23.073373</td>\n",
       "      <td>23.078698</td>\n",
       "      <td>23.073373</td>\n",
       "      <td>23.078698</td>\n",
       "      <td>2188165.0</td>\n",
       "      <td>2018-01-05</td>\n",
       "    </tr>\n",
       "    <tr>\n",
       "      <th>13</th>\n",
       "      <td>3310</td>\n",
       "      <td>2018-01-05 07:18:00</td>\n",
       "      <td>23.078698</td>\n",
       "      <td>23.078698</td>\n",
       "      <td>23.078698</td>\n",
       "      <td>23.078698</td>\n",
       "      <td>1733200.0</td>\n",
       "      <td>2018-01-05</td>\n",
       "    </tr>\n",
       "    <tr>\n",
       "      <th>14</th>\n",
       "      <td>3311</td>\n",
       "      <td>2018-01-05 07:19:00</td>\n",
       "      <td>23.084026</td>\n",
       "      <td>23.084026</td>\n",
       "      <td>23.084026</td>\n",
       "      <td>23.084026</td>\n",
       "      <td>1256280.0</td>\n",
       "      <td>2018-01-05</td>\n",
       "    </tr>\n",
       "    <tr>\n",
       "      <th>15</th>\n",
       "      <td>3312</td>\n",
       "      <td>2018-01-05 07:20:00</td>\n",
       "      <td>23.084026</td>\n",
       "      <td>23.084026</td>\n",
       "      <td>23.084026</td>\n",
       "      <td>23.084026</td>\n",
       "      <td>801420.0</td>\n",
       "      <td>2018-01-05</td>\n",
       "    </tr>\n",
       "    <tr>\n",
       "      <th>16</th>\n",
       "      <td>3313</td>\n",
       "      <td>2018-01-05 07:21:00</td>\n",
       "      <td>23.078698</td>\n",
       "      <td>23.084026</td>\n",
       "      <td>23.078698</td>\n",
       "      <td>23.084026</td>\n",
       "      <td>129960.0</td>\n",
       "      <td>2018-01-05</td>\n",
       "    </tr>\n",
       "    <tr>\n",
       "      <th>17</th>\n",
       "      <td>3314</td>\n",
       "      <td>2018-01-05 07:22:00</td>\n",
       "      <td>23.084026</td>\n",
       "      <td>23.094688</td>\n",
       "      <td>23.084026</td>\n",
       "      <td>23.089356</td>\n",
       "      <td>9441580.0</td>\n",
       "      <td>2018-01-05</td>\n",
       "    </tr>\n",
       "    <tr>\n",
       "      <th>18</th>\n",
       "      <td>3315</td>\n",
       "      <td>2018-01-05 07:23:00</td>\n",
       "      <td>23.084026</td>\n",
       "      <td>23.084026</td>\n",
       "      <td>23.084026</td>\n",
       "      <td>23.084026</td>\n",
       "      <td>43320.0</td>\n",
       "      <td>2018-01-05</td>\n",
       "    </tr>\n",
       "    <tr>\n",
       "      <th>19</th>\n",
       "      <td>3316</td>\n",
       "      <td>2018-01-05 07:25:00</td>\n",
       "      <td>23.089356</td>\n",
       "      <td>23.089356</td>\n",
       "      <td>23.084026</td>\n",
       "      <td>23.084026</td>\n",
       "      <td>584820.0</td>\n",
       "      <td>2018-01-05</td>\n",
       "    </tr>\n",
       "    <tr>\n",
       "      <th>20</th>\n",
       "      <td>3317</td>\n",
       "      <td>2018-01-05 07:28:00</td>\n",
       "      <td>23.084026</td>\n",
       "      <td>23.084026</td>\n",
       "      <td>23.084026</td>\n",
       "      <td>23.084026</td>\n",
       "      <td>21660.0</td>\n",
       "      <td>2018-01-05</td>\n",
       "    </tr>\n",
       "    <tr>\n",
       "      <th>21</th>\n",
       "      <td>3318</td>\n",
       "      <td>2018-01-05 07:30:00</td>\n",
       "      <td>23.084026</td>\n",
       "      <td>23.100023</td>\n",
       "      <td>23.084026</td>\n",
       "      <td>23.100023</td>\n",
       "      <td>2597400.0</td>\n",
       "      <td>2018-01-05</td>\n",
       "    </tr>\n",
       "    <tr>\n",
       "      <th>22</th>\n",
       "      <td>3319</td>\n",
       "      <td>2018-01-05 07:30:00</td>\n",
       "      <td>23.100023</td>\n",
       "      <td>23.100023</td>\n",
       "      <td>23.100023</td>\n",
       "      <td>23.100023</td>\n",
       "      <td>865800.0</td>\n",
       "      <td>2018-01-05</td>\n",
       "    </tr>\n",
       "    <tr>\n",
       "      <th>23</th>\n",
       "      <td>3320</td>\n",
       "      <td>2018-01-05 07:31:00</td>\n",
       "      <td>23.094688</td>\n",
       "      <td>23.100023</td>\n",
       "      <td>23.094688</td>\n",
       "      <td>23.094688</td>\n",
       "      <td>173200.0</td>\n",
       "      <td>2018-01-05</td>\n",
       "    </tr>\n",
       "    <tr>\n",
       "      <th>24</th>\n",
       "      <td>3321</td>\n",
       "      <td>2018-01-05 07:32:00</td>\n",
       "      <td>23.100023</td>\n",
       "      <td>23.100023</td>\n",
       "      <td>23.100023</td>\n",
       "      <td>23.100023</td>\n",
       "      <td>757575.0</td>\n",
       "      <td>2018-01-05</td>\n",
       "    </tr>\n",
       "    <tr>\n",
       "      <th>25</th>\n",
       "      <td>3322</td>\n",
       "      <td>2018-01-05 07:33:00</td>\n",
       "      <td>23.100023</td>\n",
       "      <td>23.100023</td>\n",
       "      <td>23.100023</td>\n",
       "      <td>23.100023</td>\n",
       "      <td>562770.0</td>\n",
       "      <td>2018-01-05</td>\n",
       "    </tr>\n",
       "    <tr>\n",
       "      <th>26</th>\n",
       "      <td>3323</td>\n",
       "      <td>2018-01-05 07:34:00</td>\n",
       "      <td>23.094688</td>\n",
       "      <td>23.100023</td>\n",
       "      <td>23.094688</td>\n",
       "      <td>23.100023</td>\n",
       "      <td>1060605.0</td>\n",
       "      <td>2018-01-05</td>\n",
       "    </tr>\n",
       "    <tr>\n",
       "      <th>27</th>\n",
       "      <td>3324</td>\n",
       "      <td>2018-01-05 07:35:00</td>\n",
       "      <td>23.100023</td>\n",
       "      <td>23.105360</td>\n",
       "      <td>23.100023</td>\n",
       "      <td>23.105360</td>\n",
       "      <td>1623000.0</td>\n",
       "      <td>2018-01-05</td>\n",
       "    </tr>\n",
       "    <tr>\n",
       "      <th>28</th>\n",
       "      <td>3325</td>\n",
       "      <td>2018-01-05 07:36:00</td>\n",
       "      <td>23.105360</td>\n",
       "      <td>23.105360</td>\n",
       "      <td>23.105360</td>\n",
       "      <td>23.105360</td>\n",
       "      <td>108200.0</td>\n",
       "      <td>2018-01-05</td>\n",
       "    </tr>\n",
       "    <tr>\n",
       "      <th>29</th>\n",
       "      <td>3326</td>\n",
       "      <td>2018-01-05 07:37:00</td>\n",
       "      <td>23.110700</td>\n",
       "      <td>23.116043</td>\n",
       "      <td>23.110700</td>\n",
       "      <td>23.116043</td>\n",
       "      <td>4455780.0</td>\n",
       "      <td>2018-01-05</td>\n",
       "    </tr>\n",
       "    <tr>\n",
       "      <th>30</th>\n",
       "      <td>3327</td>\n",
       "      <td>2018-01-05 07:38:00</td>\n",
       "      <td>23.116043</td>\n",
       "      <td>23.116043</td>\n",
       "      <td>23.110700</td>\n",
       "      <td>23.110700</td>\n",
       "      <td>1233195.0</td>\n",
       "      <td>2018-01-05</td>\n",
       "    </tr>\n",
       "    <tr>\n",
       "      <th>31</th>\n",
       "      <td>3328</td>\n",
       "      <td>2018-01-05 07:41:00</td>\n",
       "      <td>23.110700</td>\n",
       "      <td>23.110700</td>\n",
       "      <td>23.110700</td>\n",
       "      <td>23.110700</td>\n",
       "      <td>237985.0</td>\n",
       "      <td>2018-01-05</td>\n",
       "    </tr>\n",
       "    <tr>\n",
       "      <th>32</th>\n",
       "      <td>3329</td>\n",
       "      <td>2018-01-05 07:42:00</td>\n",
       "      <td>23.110700</td>\n",
       "      <td>23.110700</td>\n",
       "      <td>23.094688</td>\n",
       "      <td>23.100023</td>\n",
       "      <td>2792205.0</td>\n",
       "      <td>2018-01-05</td>\n",
       "    </tr>\n",
       "    <tr>\n",
       "      <th>33</th>\n",
       "      <td>3330</td>\n",
       "      <td>2018-01-05 07:43:00</td>\n",
       "      <td>23.100023</td>\n",
       "      <td>23.110700</td>\n",
       "      <td>23.100023</td>\n",
       "      <td>23.110700</td>\n",
       "      <td>1730800.0</td>\n",
       "      <td>2018-01-05</td>\n",
       "    </tr>\n",
       "    <tr>\n",
       "      <th>34</th>\n",
       "      <td>3331</td>\n",
       "      <td>2018-01-05 07:44:00</td>\n",
       "      <td>23.110700</td>\n",
       "      <td>23.126735</td>\n",
       "      <td>23.110700</td>\n",
       "      <td>23.126735</td>\n",
       "      <td>648600.0</td>\n",
       "      <td>2018-01-05</td>\n",
       "    </tr>\n",
       "    <tr>\n",
       "      <th>35</th>\n",
       "      <td>3332</td>\n",
       "      <td>2018-01-05 07:45:00</td>\n",
       "      <td>23.121387</td>\n",
       "      <td>23.121387</td>\n",
       "      <td>23.121387</td>\n",
       "      <td>23.121387</td>\n",
       "      <td>173000.0</td>\n",
       "      <td>2018-01-05</td>\n",
       "    </tr>\n",
       "    <tr>\n",
       "      <th>36</th>\n",
       "      <td>3333</td>\n",
       "      <td>2018-01-05 07:46:00</td>\n",
       "      <td>23.121387</td>\n",
       "      <td>23.121387</td>\n",
       "      <td>23.121387</td>\n",
       "      <td>23.121387</td>\n",
       "      <td>756875.0</td>\n",
       "      <td>2018-01-05</td>\n",
       "    </tr>\n",
       "    <tr>\n",
       "      <th>37</th>\n",
       "      <td>3334</td>\n",
       "      <td>2018-01-05 07:47:00</td>\n",
       "      <td>23.121387</td>\n",
       "      <td>23.142791</td>\n",
       "      <td>23.121387</td>\n",
       "      <td>23.137436</td>\n",
       "      <td>2809300.0</td>\n",
       "      <td>2018-01-05</td>\n",
       "    </tr>\n",
       "    <tr>\n",
       "      <th>38</th>\n",
       "      <td>3335</td>\n",
       "      <td>2018-01-05 07:48:00</td>\n",
       "      <td>23.142791</td>\n",
       "      <td>23.142791</td>\n",
       "      <td>23.142791</td>\n",
       "      <td>23.142791</td>\n",
       "      <td>2311735.0</td>\n",
       "      <td>2018-01-05</td>\n",
       "    </tr>\n",
       "    <tr>\n",
       "      <th>39</th>\n",
       "      <td>3336</td>\n",
       "      <td>2018-01-05 07:49:00</td>\n",
       "      <td>23.148148</td>\n",
       "      <td>23.158870</td>\n",
       "      <td>23.148148</td>\n",
       "      <td>23.158870</td>\n",
       "      <td>5289550.0</td>\n",
       "      <td>2018-01-05</td>\n",
       "    </tr>\n",
       "    <tr>\n",
       "      <th>40</th>\n",
       "      <td>3337</td>\n",
       "      <td>2018-01-05 07:50:00</td>\n",
       "      <td>23.158870</td>\n",
       "      <td>23.164234</td>\n",
       "      <td>23.158870</td>\n",
       "      <td>23.164234</td>\n",
       "      <td>14246100.0</td>\n",
       "      <td>2018-01-05</td>\n",
       "    </tr>\n",
       "    <tr>\n",
       "      <th>41</th>\n",
       "      <td>3338</td>\n",
       "      <td>2018-01-05 07:51:00</td>\n",
       "      <td>23.164234</td>\n",
       "      <td>23.164234</td>\n",
       "      <td>23.158870</td>\n",
       "      <td>23.158870</td>\n",
       "      <td>2353310.0</td>\n",
       "      <td>2018-01-05</td>\n",
       "    </tr>\n",
       "    <tr>\n",
       "      <th>42</th>\n",
       "      <td>3339</td>\n",
       "      <td>2018-01-05 07:52:00</td>\n",
       "      <td>23.158870</td>\n",
       "      <td>23.158870</td>\n",
       "      <td>23.153508</td>\n",
       "      <td>23.153508</td>\n",
       "      <td>194355.0</td>\n",
       "      <td>2018-01-05</td>\n",
       "    </tr>\n",
       "    <tr>\n",
       "      <th>43</th>\n",
       "      <td>3340</td>\n",
       "      <td>2018-01-05 07:53:00</td>\n",
       "      <td>23.148148</td>\n",
       "      <td>23.148148</td>\n",
       "      <td>23.142791</td>\n",
       "      <td>23.148148</td>\n",
       "      <td>1900800.0</td>\n",
       "      <td>2018-01-05</td>\n",
       "    </tr>\n",
       "    <tr>\n",
       "      <th>44</th>\n",
       "      <td>3341</td>\n",
       "      <td>2018-01-05 07:54:00</td>\n",
       "      <td>23.148148</td>\n",
       "      <td>23.148148</td>\n",
       "      <td>23.148148</td>\n",
       "      <td>23.148148</td>\n",
       "      <td>367200.0</td>\n",
       "      <td>2018-01-05</td>\n",
       "    </tr>\n",
       "    <tr>\n",
       "      <th>45</th>\n",
       "      <td>3342</td>\n",
       "      <td>2018-01-05 07:55:00</td>\n",
       "      <td>23.148148</td>\n",
       "      <td>23.148148</td>\n",
       "      <td>23.137436</td>\n",
       "      <td>23.137436</td>\n",
       "      <td>1058890.0</td>\n",
       "      <td>2018-01-05</td>\n",
       "    </tr>\n",
       "    <tr>\n",
       "      <th>46</th>\n",
       "      <td>3343</td>\n",
       "      <td>2018-01-05 07:56:00</td>\n",
       "      <td>23.137436</td>\n",
       "      <td>23.137436</td>\n",
       "      <td>23.126735</td>\n",
       "      <td>23.132084</td>\n",
       "      <td>1426590.0</td>\n",
       "      <td>2018-01-05</td>\n",
       "    </tr>\n",
       "    <tr>\n",
       "      <th>47</th>\n",
       "      <td>3344</td>\n",
       "      <td>2018-01-05 07:57:00</td>\n",
       "      <td>23.132084</td>\n",
       "      <td>23.137436</td>\n",
       "      <td>23.132084</td>\n",
       "      <td>23.132084</td>\n",
       "      <td>1383360.0</td>\n",
       "      <td>2018-01-05</td>\n",
       "    </tr>\n",
       "    <tr>\n",
       "      <th>48</th>\n",
       "      <td>3345</td>\n",
       "      <td>2018-01-05 07:58:00</td>\n",
       "      <td>23.137436</td>\n",
       "      <td>23.142791</td>\n",
       "      <td>23.132084</td>\n",
       "      <td>23.137436</td>\n",
       "      <td>1188550.0</td>\n",
       "      <td>2018-01-05</td>\n",
       "    </tr>\n",
       "    <tr>\n",
       "      <th>49</th>\n",
       "      <td>3346</td>\n",
       "      <td>2018-01-05 08:00:00</td>\n",
       "      <td>23.137436</td>\n",
       "      <td>23.137436</td>\n",
       "      <td>23.132084</td>\n",
       "      <td>23.137436</td>\n",
       "      <td>2333880.0</td>\n",
       "      <td>2018-01-05</td>\n",
       "    </tr>\n",
       "  </tbody>\n",
       "</table>\n",
       "</div>"
      ],
      "text/plain": [
       "    index           timestamp       open       high        low      close  \\\n",
       "0    3297 2018-01-05 07:00:00  23.041475  23.046785  23.041475  23.046785   \n",
       "1    3298 2018-01-05 07:01:00  23.046785  23.046785  23.046785  23.046785   \n",
       "2    3299 2018-01-05 07:04:00  23.041475  23.041475  23.041475  23.041475   \n",
       "3    3300 2018-01-05 07:06:00  23.046785  23.046785  23.046785  23.046785   \n",
       "4    3301 2018-01-05 07:08:00  23.046785  23.046785  23.046785  23.046785   \n",
       "5    3302 2018-01-05 07:09:00  23.046785  23.046785  23.046785  23.046785   \n",
       "6    3303 2018-01-05 07:10:00  23.046785  23.046785  23.046785  23.046785   \n",
       "7    3304 2018-01-05 07:12:00  23.046785  23.046785  23.046785  23.046785   \n",
       "8    3305 2018-01-05 07:13:00  23.052098  23.052098  23.052098  23.052098   \n",
       "9    3306 2018-01-05 07:14:00  23.057413  23.057413  23.057413  23.057413   \n",
       "10   3307 2018-01-05 07:15:00  23.062731  23.068051  23.062731  23.068051   \n",
       "11   3308 2018-01-05 07:16:00  23.068051  23.073373  23.068051  23.073373   \n",
       "12   3309 2018-01-05 07:17:00  23.073373  23.078698  23.073373  23.078698   \n",
       "13   3310 2018-01-05 07:18:00  23.078698  23.078698  23.078698  23.078698   \n",
       "14   3311 2018-01-05 07:19:00  23.084026  23.084026  23.084026  23.084026   \n",
       "15   3312 2018-01-05 07:20:00  23.084026  23.084026  23.084026  23.084026   \n",
       "16   3313 2018-01-05 07:21:00  23.078698  23.084026  23.078698  23.084026   \n",
       "17   3314 2018-01-05 07:22:00  23.084026  23.094688  23.084026  23.089356   \n",
       "18   3315 2018-01-05 07:23:00  23.084026  23.084026  23.084026  23.084026   \n",
       "19   3316 2018-01-05 07:25:00  23.089356  23.089356  23.084026  23.084026   \n",
       "20   3317 2018-01-05 07:28:00  23.084026  23.084026  23.084026  23.084026   \n",
       "21   3318 2018-01-05 07:30:00  23.084026  23.100023  23.084026  23.100023   \n",
       "22   3319 2018-01-05 07:30:00  23.100023  23.100023  23.100023  23.100023   \n",
       "23   3320 2018-01-05 07:31:00  23.094688  23.100023  23.094688  23.094688   \n",
       "24   3321 2018-01-05 07:32:00  23.100023  23.100023  23.100023  23.100023   \n",
       "25   3322 2018-01-05 07:33:00  23.100023  23.100023  23.100023  23.100023   \n",
       "26   3323 2018-01-05 07:34:00  23.094688  23.100023  23.094688  23.100023   \n",
       "27   3324 2018-01-05 07:35:00  23.100023  23.105360  23.100023  23.105360   \n",
       "28   3325 2018-01-05 07:36:00  23.105360  23.105360  23.105360  23.105360   \n",
       "29   3326 2018-01-05 07:37:00  23.110700  23.116043  23.110700  23.116043   \n",
       "30   3327 2018-01-05 07:38:00  23.116043  23.116043  23.110700  23.110700   \n",
       "31   3328 2018-01-05 07:41:00  23.110700  23.110700  23.110700  23.110700   \n",
       "32   3329 2018-01-05 07:42:00  23.110700  23.110700  23.094688  23.100023   \n",
       "33   3330 2018-01-05 07:43:00  23.100023  23.110700  23.100023  23.110700   \n",
       "34   3331 2018-01-05 07:44:00  23.110700  23.126735  23.110700  23.126735   \n",
       "35   3332 2018-01-05 07:45:00  23.121387  23.121387  23.121387  23.121387   \n",
       "36   3333 2018-01-05 07:46:00  23.121387  23.121387  23.121387  23.121387   \n",
       "37   3334 2018-01-05 07:47:00  23.121387  23.142791  23.121387  23.137436   \n",
       "38   3335 2018-01-05 07:48:00  23.142791  23.142791  23.142791  23.142791   \n",
       "39   3336 2018-01-05 07:49:00  23.148148  23.158870  23.148148  23.158870   \n",
       "40   3337 2018-01-05 07:50:00  23.158870  23.164234  23.158870  23.164234   \n",
       "41   3338 2018-01-05 07:51:00  23.164234  23.164234  23.158870  23.158870   \n",
       "42   3339 2018-01-05 07:52:00  23.158870  23.158870  23.153508  23.153508   \n",
       "43   3340 2018-01-05 07:53:00  23.148148  23.148148  23.142791  23.148148   \n",
       "44   3341 2018-01-05 07:54:00  23.148148  23.148148  23.148148  23.148148   \n",
       "45   3342 2018-01-05 07:55:00  23.148148  23.148148  23.137436  23.137436   \n",
       "46   3343 2018-01-05 07:56:00  23.137436  23.137436  23.126735  23.132084   \n",
       "47   3344 2018-01-05 07:57:00  23.132084  23.137436  23.132084  23.132084   \n",
       "48   3345 2018-01-05 07:58:00  23.137436  23.142791  23.132084  23.137436   \n",
       "49   3346 2018-01-05 08:00:00  23.137436  23.137436  23.132084  23.137436   \n",
       "\n",
       "        volume        date  \n",
       "0     520680.0  2018-01-05  \n",
       "1     238645.0  2018-01-05  \n",
       "2     217000.0  2018-01-05  \n",
       "3      21695.0  2018-01-05  \n",
       "4     151865.0  2018-01-05  \n",
       "5      43390.0  2018-01-05  \n",
       "6     151865.0  2018-01-05  \n",
       "7     151865.0  2018-01-05  \n",
       "8    5183910.0  2018-01-05  \n",
       "9    1149305.0  2018-01-05  \n",
       "10   1495575.0  2018-01-05  \n",
       "11    736780.0  2018-01-05  \n",
       "12   2188165.0  2018-01-05  \n",
       "13   1733200.0  2018-01-05  \n",
       "14   1256280.0  2018-01-05  \n",
       "15    801420.0  2018-01-05  \n",
       "16    129960.0  2018-01-05  \n",
       "17   9441580.0  2018-01-05  \n",
       "18     43320.0  2018-01-05  \n",
       "19    584820.0  2018-01-05  \n",
       "20     21660.0  2018-01-05  \n",
       "21   2597400.0  2018-01-05  \n",
       "22    865800.0  2018-01-05  \n",
       "23    173200.0  2018-01-05  \n",
       "24    757575.0  2018-01-05  \n",
       "25    562770.0  2018-01-05  \n",
       "26   1060605.0  2018-01-05  \n",
       "27   1623000.0  2018-01-05  \n",
       "28    108200.0  2018-01-05  \n",
       "29   4455780.0  2018-01-05  \n",
       "30   1233195.0  2018-01-05  \n",
       "31    237985.0  2018-01-05  \n",
       "32   2792205.0  2018-01-05  \n",
       "33   1730800.0  2018-01-05  \n",
       "34    648600.0  2018-01-05  \n",
       "35    173000.0  2018-01-05  \n",
       "36    756875.0  2018-01-05  \n",
       "37   2809300.0  2018-01-05  \n",
       "38   2311735.0  2018-01-05  \n",
       "39   5289550.0  2018-01-05  \n",
       "40  14246100.0  2018-01-05  \n",
       "41   2353310.0  2018-01-05  \n",
       "42    194355.0  2018-01-05  \n",
       "43   1900800.0  2018-01-05  \n",
       "44    367200.0  2018-01-05  \n",
       "45   1058890.0  2018-01-05  \n",
       "46   1426590.0  2018-01-05  \n",
       "47   1383360.0  2018-01-05  \n",
       "48   1188550.0  2018-01-05  \n",
       "49   2333880.0  2018-01-05  "
      ]
     },
     "execution_count": 5,
     "metadata": {},
     "output_type": "execute_result"
    }
   ],
   "source": [
    "warnings.filterwarnings('ignore') \n",
    "eventos_df = fn.Event_Data(data[0],unemployment)\n",
    "eventos_df[0]"
   ]
  },
  {
   "cell_type": "markdown",
   "metadata": {},
   "source": [
    "### <font color= #6B6B6B> 4.3.3 Metrics </font>"
   ]
  },
  {
   "cell_type": "markdown",
   "metadata": {},
   "source": [
    "The Metrics function defined in the functions.py file does all the calculations for the corresponding metrics:\n",
    "- Direction\n",
    "- Bullish pip\n",
    "- Bear pip \n",
    "- Volatility\n",
    "\n",
    "It displays a dataframe for the metrics corresponding to everytime the unemployment rate is published. All the previously mentionate are reported on pips (1dll*10000). "
   ]
  },
  {
   "cell_type": "markdown",
   "metadata": {},
   "source": [
    "#### <font color= #6B6B6B> **Direction** </font>"
   ]
  },
  {
   "cell_type": "markdown",
   "metadata": {},
   "source": [
    "$$(\\text{Close}(t_{30}) - \\text{Open}(t_0))$$  \n",
    "\n",
    "This specific metrics shows tendency in a certain time series. Applied to the prices of future contracts, this metric is calculated by substaction of the closing price 30 minutes after the indicator has been announced and the opening price when the indicator is published.\n",
    "The sign is the only relevant part of this result. If it is positive (+1), indicates that the closing price was higher than the opening. In case of the opposite, the sign will have to be negative (-1). \n"
   ]
  },
  {
   "cell_type": "markdown",
   "metadata": {},
   "source": [
    "#### <font color= #6B6B6B> **Bullish Pip** </font>\n"
   ]
  },
  {
   "cell_type": "markdown",
   "metadata": {},
   "source": [
    "$$ \\text{High}(t_0:t_{30}) - \\text{Open}(t_0) $$  \n",
    " \n",
    "To obstain this metric is necesary to obtain the maximum price of the high prices for the following thirty minutes once the indicator has been announced. Once this has been calculated, a substraction is performed between the maximum price and the opening price on t=0. This translates on a general idea of the highest pip variation presented on the analyzed period of time. "
   ]
  },
  {
   "cell_type": "markdown",
   "metadata": {},
   "source": [
    "#### <font color= #6B6B6B> **Bear Pip** </font>\n"
   ]
  },
  {
   "cell_type": "markdown",
   "metadata": {},
   "source": [
    "$$ \\text{Open}(t_0)  - \\text{Low}(t_0:t_{30}) $$  \n",
    "\n",
    "Opposite to the Bullish Pip, this metric can be calculated by, then again, a substration of the opening price once the indicator has been announced and the minimum of the low prices on a time window of thirty minutes after the publication of the indicator. It ilustrates the lowest pip variation presented during the analyzed time period."
   ]
  },
  {
   "cell_type": "markdown",
   "metadata": {},
   "source": [
    "#### <font color= #6B6B6B> **Volatility** </font>"
   ]
  },
  {
   "cell_type": "markdown",
   "metadata": {},
   "source": [
    "$$ \\text{High}(t_{-30}:t_{30}) - \\text{Low}(t_{-30}:t_{30}) $$  \n",
    "\n",
    "This metric represents on a statistical way the prices dispersion. To calculate this metric, it is required to obtain the maximum value of the high prices and substract the minimimum value of the low prices."
   ]
  },
  {
   "cell_type": "code",
   "execution_count": 6,
   "metadata": {},
   "outputs": [
    {
     "data": {
      "text/html": [
       "<div>\n",
       "<style scoped>\n",
       "    .dataframe tbody tr th:only-of-type {\n",
       "        vertical-align: middle;\n",
       "    }\n",
       "\n",
       "    .dataframe tbody tr th {\n",
       "        vertical-align: top;\n",
       "    }\n",
       "\n",
       "    .dataframe thead th {\n",
       "        text-align: right;\n",
       "    }\n",
       "</style>\n",
       "<table border=\"1\" class=\"dataframe\">\n",
       "  <thead>\n",
       "    <tr style=\"text-align: right;\">\n",
       "      <th></th>\n",
       "      <th>Scenario</th>\n",
       "      <th>Direction</th>\n",
       "      <th>Bullish_Pip</th>\n",
       "      <th>Bear_Pip</th>\n",
       "      <th>Volatility</th>\n",
       "    </tr>\n",
       "    <tr>\n",
       "      <th>Datetime</th>\n",
       "      <th></th>\n",
       "      <th></th>\n",
       "      <th></th>\n",
       "      <th></th>\n",
       "      <th></th>\n",
       "    </tr>\n",
       "  </thead>\n",
       "  <tbody>\n",
       "    <tr>\n",
       "      <th>2018-01-05 07:30:00</th>\n",
       "      <td>A</td>\n",
       "      <td>1</td>\n",
       "      <td>802.085679</td>\n",
       "      <td>0.000000</td>\n",
       "      <td>1227.597677</td>\n",
       "    </tr>\n",
       "    <tr>\n",
       "      <th>2018-02-02 07:30:00</th>\n",
       "      <td>A</td>\n",
       "      <td>1</td>\n",
       "      <td>519.736522</td>\n",
       "      <td>0.000000</td>\n",
       "      <td>613.967477</td>\n",
       "    </tr>\n",
       "    <tr>\n",
       "      <th>2018-03-09 07:30:00</th>\n",
       "      <td>B</td>\n",
       "      <td>1</td>\n",
       "      <td>142.426418</td>\n",
       "      <td>236.964174</td>\n",
       "      <td>379.390592</td>\n",
       "    </tr>\n",
       "    <tr>\n",
       "      <th>2018-04-06 07:30:00</th>\n",
       "      <td>B</td>\n",
       "      <td>1</td>\n",
       "      <td>134.916728</td>\n",
       "      <td>179.622243</td>\n",
       "      <td>359.549382</td>\n",
       "    </tr>\n",
       "    <tr>\n",
       "      <th>2018-05-04 07:30:00</th>\n",
       "      <td>D</td>\n",
       "      <td>-1</td>\n",
       "      <td>0.000000</td>\n",
       "      <td>396.470461</td>\n",
       "      <td>694.752120</td>\n",
       "    </tr>\n",
       "  </tbody>\n",
       "</table>\n",
       "</div>"
      ],
      "text/plain": [
       "                    Scenario  Direction  Bullish_Pip    Bear_Pip   Volatility\n",
       "Datetime                                                                     \n",
       "2018-01-05 07:30:00        A          1   802.085679    0.000000  1227.597677\n",
       "2018-02-02 07:30:00        A          1   519.736522    0.000000   613.967477\n",
       "2018-03-09 07:30:00        B          1   142.426418  236.964174   379.390592\n",
       "2018-04-06 07:30:00        B          1   134.916728  179.622243   359.549382\n",
       "2018-05-04 07:30:00        D         -1     0.000000  396.470461   694.752120"
      ]
     },
     "metadata": {},
     "output_type": "display_data"
    },
    {
     "data": {
      "text/html": [
       "<div>\n",
       "<style scoped>\n",
       "    .dataframe tbody tr th:only-of-type {\n",
       "        vertical-align: middle;\n",
       "    }\n",
       "\n",
       "    .dataframe tbody tr th {\n",
       "        vertical-align: top;\n",
       "    }\n",
       "\n",
       "    .dataframe thead th {\n",
       "        text-align: right;\n",
       "    }\n",
       "</style>\n",
       "<table border=\"1\" class=\"dataframe\">\n",
       "  <thead>\n",
       "    <tr style=\"text-align: right;\">\n",
       "      <th></th>\n",
       "      <th>Scenario</th>\n",
       "      <th>Direction</th>\n",
       "      <th>Bullish_Pip</th>\n",
       "      <th>Bear_Pip</th>\n",
       "      <th>Volatility</th>\n",
       "    </tr>\n",
       "    <tr>\n",
       "      <th>Datetime</th>\n",
       "      <th></th>\n",
       "      <th></th>\n",
       "      <th></th>\n",
       "      <th></th>\n",
       "      <th></th>\n",
       "    </tr>\n",
       "  </thead>\n",
       "  <tbody>\n",
       "    <tr>\n",
       "      <th>2020-08-07 07:30:00</th>\n",
       "      <td>D</td>\n",
       "      <td>1</td>\n",
       "      <td>159.383039</td>\n",
       "      <td>318.105955</td>\n",
       "      <td>690.343025</td>\n",
       "    </tr>\n",
       "    <tr>\n",
       "      <th>2020-09-04 07:30:00</th>\n",
       "      <td>C</td>\n",
       "      <td>1</td>\n",
       "      <td>146.095666</td>\n",
       "      <td>48.655592</td>\n",
       "      <td>534.740381</td>\n",
       "    </tr>\n",
       "    <tr>\n",
       "      <th>2020-10-02 07:30:00</th>\n",
       "      <td>D</td>\n",
       "      <td>-1</td>\n",
       "      <td>0.000000</td>\n",
       "      <td>448.722442</td>\n",
       "      <td>949.425028</td>\n",
       "    </tr>\n",
       "    <tr>\n",
       "      <th>2020-11-06 07:30:00</th>\n",
       "      <td>D</td>\n",
       "      <td>1</td>\n",
       "      <td>712.439193</td>\n",
       "      <td>177.360020</td>\n",
       "      <td>1287.769388</td>\n",
       "    </tr>\n",
       "    <tr>\n",
       "      <th>2020-12-04 07:30:00</th>\n",
       "      <td>D</td>\n",
       "      <td>1</td>\n",
       "      <td>280.056146</td>\n",
       "      <td>39.944059</td>\n",
       "      <td>479.808748</td>\n",
       "    </tr>\n",
       "  </tbody>\n",
       "</table>\n",
       "</div>"
      ],
      "text/plain": [
       "                    Scenario  Direction  Bullish_Pip    Bear_Pip   Volatility\n",
       "Datetime                                                                     \n",
       "2020-08-07 07:30:00        D          1   159.383039  318.105955   690.343025\n",
       "2020-09-04 07:30:00        C          1   146.095666   48.655592   534.740381\n",
       "2020-10-02 07:30:00        D         -1     0.000000  448.722442   949.425028\n",
       "2020-11-06 07:30:00        D          1   712.439193  177.360020  1287.769388\n",
       "2020-12-04 07:30:00        D          1   280.056146   39.944059   479.808748"
      ]
     },
     "metadata": {},
     "output_type": "display_data"
    }
   ],
   "source": [
    "df_escenarios= fn.Metrics(eventos_df,unemployment_df)\n",
    "display(df_escenarios.head())\n",
    "display(df_escenarios.tail())"
   ]
  },
  {
   "cell_type": "markdown",
   "metadata": {},
   "source": [
    "# <font color= #6B6B6B> 5. Trading System Definition </font>"
   ]
  },
  {
   "cell_type": "markdown",
   "metadata": {},
   "source": [
    "<hr style=\"border:0.02in solid gray\"> </hr>"
   ]
  },
  {
   "cell_type": "code",
   "execution_count": null,
   "metadata": {},
   "outputs": [],
   "source": []
  },
  {
   "cell_type": "markdown",
   "metadata": {},
   "source": [
    "# <font color= #6B6B6B> 6. Trading System Optimization </font>"
   ]
  },
  {
   "cell_type": "markdown",
   "metadata": {},
   "source": [
    "<hr style=\"border:0.02in solid gray\"> </hr>"
   ]
  },
  {
   "cell_type": "code",
   "execution_count": null,
   "metadata": {},
   "outputs": [],
   "source": []
  },
  {
   "cell_type": "markdown",
   "metadata": {},
   "source": []
  },
  {
   "cell_type": "markdown",
   "metadata": {},
   "source": [
    "<br>"
   ]
  },
  {
   "cell_type": "markdown",
   "metadata": {},
   "source": [
    "# <font color= #6B6B6B> <font size = 6> 5. Results </font>"
   ]
  },
  {
   "cell_type": "markdown",
   "metadata": {},
   "source": [
    "<hr style=\"border:0.02in solid gray\"> </hr>"
   ]
  },
  {
   "cell_type": "markdown",
   "metadata": {},
   "source": [
    "<br>"
   ]
  },
  {
   "cell_type": "markdown",
   "metadata": {},
   "source": [
    "## <font color= #6B6B6B> 5.1 Results of first processes </font>"
   ]
  },
  {
   "cell_type": "code",
   "execution_count": 7,
   "metadata": {},
   "outputs": [],
   "source": [
    "# DELETE THIS CELL IN YOUR FILE\n",
    "\n",
    "# Separate your results according to the main processes you are working on"
   ]
  },
  {
   "cell_type": "markdown",
   "metadata": {},
   "source": [
    "<br>"
   ]
  },
  {
   "cell_type": "markdown",
   "metadata": {},
   "source": [
    "## <font color= #6B6B6B> 5.2 Results of another proces </font>"
   ]
  },
  {
   "cell_type": "code",
   "execution_count": 8,
   "metadata": {},
   "outputs": [],
   "source": [
    "# DELETE THIS CELL IN YOUR FILE\n",
    "\n",
    "# You can have several processes with which you are obtaining the results you need."
   ]
  },
  {
   "cell_type": "markdown",
   "metadata": {},
   "source": [
    "<br>"
   ]
  },
  {
   "cell_type": "markdown",
   "metadata": {},
   "source": [
    "# <font color= #6B6B6B> <font size = 6> 6. References </font>"
   ]
  },
  {
   "cell_type": "markdown",
   "metadata": {},
   "source": [
    "<hr style=\"border:0.02in solid gray\"> </hr>"
   ]
  },
  {
   "cell_type": "markdown",
   "metadata": {},
   "source": [
    "[1] Munnoz, 2020. Python project template. https://github.com/iffranciscome/python-project. (2021)."
   ]
  },
  {
   "cell_type": "markdown",
   "metadata": {},
   "source": [
    "<br>"
   ]
  }
 ],
 "metadata": {
  "kernelspec": {
   "display_name": "Python 3",
   "language": "python",
   "name": "python3"
  },
  "language_info": {
   "codemirror_mode": {
    "name": "ipython",
    "version": 3
   },
   "file_extension": ".py",
   "mimetype": "text/x-python",
   "name": "python",
   "nbconvert_exporter": "python",
   "pygments_lexer": "ipython3",
   "version": "3.8.5"
  }
 },
 "nbformat": 4,
 "nbformat_minor": 4
}
